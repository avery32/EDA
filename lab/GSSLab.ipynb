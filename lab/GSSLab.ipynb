{
 "cells": [
  {
   "cell_type": "markdown",
   "id": "1a2ea954-10b0-4f15-a44d-760e133d0f07",
   "metadata": {},
   "source": [
    "GSS Lab"
   ]
  },
  {
   "cell_type": "markdown",
   "id": "23717c09-11d7-4c8c-87d4-ce9e0f5455b2",
   "metadata": {},
   "source": [
    "Why I selected the Data that I did: \n",
    "\n",
    "I wanted to look at major people graduated with compared to overall happiness and job satisfaction. I also included what type of institution people got educated from, their income, when they graduated college and year. Due to when data was collected to answer this question, I narrowed in on just data from 2012-2016, which you will see when I cleaned the data. \n"
   ]
  },
  {
   "cell_type": "code",
   "execution_count": 1,
   "id": "f026e250-f69c-45b3-b373-f39d09d39f00",
   "metadata": {},
   "outputs": [],
   "source": [
    "import numpy as np #import variables\n",
    "import matplotlib.pyplot as plt \n",
    "import seaborn as sns\n",
    "import pandas as pd  "
   ]
  },
  {
   "cell_type": "code",
   "execution_count": 2,
   "id": "ca9f6af0-e500-496c-9cee-e59b890bb4d8",
   "metadata": {},
   "outputs": [
    {
     "name": "stdout",
     "output_type": "stream",
     "text": [
      "https://github.com/DS3001/project_gss/raw/main/gss_chunk_1.parquet\n",
      "   year  id            wrkstat  hrs1  hrs2 evwork    occ  prestige  \\\n",
      "0  1972   1  working full time   NaN   NaN    NaN  205.0      50.0   \n",
      "1  1972   2            retired   NaN   NaN    yes  441.0      45.0   \n",
      "2  1972   3  working part time   NaN   NaN    NaN  270.0      44.0   \n",
      "3  1972   4  working full time   NaN   NaN    NaN    1.0      57.0   \n",
      "4  1972   5      keeping house   NaN   NaN    yes  385.0      40.0   \n",
      "\n",
      "         wrkslf wrkgovt  ...  agehef12 agehef13 agehef14  hompoph wtssps_nea  \\\n",
      "0  someone else     NaN  ...       NaN      NaN      NaN      NaN        NaN   \n",
      "1  someone else     NaN  ...       NaN      NaN      NaN      NaN        NaN   \n",
      "2  someone else     NaN  ...       NaN      NaN      NaN      NaN        NaN   \n",
      "3  someone else     NaN  ...       NaN      NaN      NaN      NaN        NaN   \n",
      "4  someone else     NaN  ...       NaN      NaN      NaN      NaN        NaN   \n",
      "\n",
      "   wtssnrps_nea  wtssps_next wtssnrps_next wtsscomp wtsscompnr  \n",
      "0           NaN          NaN           NaN   0.4446        NaN  \n",
      "1           NaN          NaN           NaN   0.8893        NaN  \n",
      "2           NaN          NaN           NaN   0.8893        NaN  \n",
      "3           NaN          NaN           NaN   0.8893        NaN  \n",
      "4           NaN          NaN           NaN   0.8893        NaN  \n",
      "\n",
      "[5 rows x 6694 columns]\n",
      "https://github.com/DS3001/project_gss/raw/main/gss_chunk_2.parquet\n",
      "   year   id            wrkstat  hrs1  hrs2 evwork    occ  prestige  \\\n",
      "0  1989  775            retired   NaN   NaN    yes  540.0      36.0   \n",
      "1  1989  776  working full time  40.0   NaN    NaN  925.0      36.0   \n",
      "2  1989  777            retired   NaN   NaN    yes   80.0      61.0   \n",
      "3  1989  778  working full time  44.0   NaN    NaN  912.0      26.0   \n",
      "4  1989  779            retired   NaN   NaN    yes  690.0      32.0   \n",
      "\n",
      "         wrkslf wrkgovt  ...  agehef12 agehef13 agehef14  hompoph wtssps_nea  \\\n",
      "0  someone else     NaN  ...       NaN      NaN      NaN      NaN        NaN   \n",
      "1  someone else     NaN  ...       NaN      NaN      NaN      NaN        NaN   \n",
      "2  someone else     NaN  ...       NaN      NaN      NaN      NaN        NaN   \n",
      "3  someone else     NaN  ...       NaN      NaN      NaN      NaN        NaN   \n",
      "4  someone else     NaN  ...       NaN      NaN      NaN      NaN        NaN   \n",
      "\n",
      "   wtssnrps_nea  wtssps_next wtssnrps_next  wtsscomp wtsscompnr  \n",
      "0           NaN          NaN           NaN  1.295069        NaN  \n",
      "1           NaN          NaN           NaN  0.483624        NaN  \n",
      "2           NaN          NaN           NaN  0.407988        NaN  \n",
      "3           NaN          NaN           NaN  1.225988        NaN  \n",
      "4           NaN          NaN           NaN  0.504302        NaN  \n",
      "\n",
      "[5 rows x 6694 columns]\n",
      "https://github.com/DS3001/project_gss/raw/main/gss_chunk_3.parquet\n",
      "   year    id            wrkstat  hrs1  hrs2 evwork  occ  prestige  \\\n",
      "0  2006  1751  working full time  40.0   NaN    NaN  NaN       NaN   \n",
      "1  2006  1752          in school   NaN   NaN    yes  NaN       NaN   \n",
      "2  2006  1753  working full time  35.0   NaN    NaN  NaN       NaN   \n",
      "3  2006  1754  working full time  50.0   NaN    NaN  NaN       NaN   \n",
      "4  2006  1755  working full time  40.0   NaN    NaN  NaN       NaN   \n",
      "\n",
      "         wrkslf     wrkgovt  ...  agehef12 agehef13 agehef14  hompoph  \\\n",
      "0  someone else  government  ...       NaN      NaN      NaN      NaN   \n",
      "1  someone else     private  ...       NaN      NaN      NaN      NaN   \n",
      "2  someone else  government  ...       NaN      NaN      NaN      NaN   \n",
      "3  someone else  government  ...       NaN      NaN      NaN      NaN   \n",
      "4  someone else     private  ...       NaN      NaN      NaN      NaN   \n",
      "\n",
      "  wtssps_nea  wtssnrps_nea  wtssps_next wtssnrps_next  wtsscomp wtsscompnr  \n",
      "0        NaN           NaN          NaN           NaN  1.079141   0.961150  \n",
      "1        NaN           NaN          NaN           NaN  7.673834   6.641571  \n",
      "2        NaN           NaN          NaN           NaN  0.584663   0.512145  \n",
      "3        NaN           NaN          NaN           NaN  0.715731   0.637592  \n",
      "4        NaN           NaN          NaN           NaN  1.094831   0.956094  \n",
      "\n",
      "[5 rows x 6694 columns]\n"
     ]
    }
   ],
   "source": [
    "var_list = ['year','rincome', 'major1','voednme1','whencol','happy', 'satjob'] # List of variables you want to save\n",
    "output_filename = 'selected_gss_data.csv' # Name of the file you want to save the data to\n",
    "#\n",
    "phase = 0 # Starts in write mode; after one iteration of loop, switches to append mode\n",
    "#\n",
    "for k in range(3): # for each chunk of the data\n",
    "    url = 'https://github.com/DS3001/project_gss/raw/main/gss_chunk_' + str(1+k) + '.parquet' #Create url to the chunk to be processed\n",
    "    print(url) # Check the url is correct\n",
    "    df = pd.read_parquet(url) # Download this chunk of data\n",
    "    print(df.head()) # Visually inspect the first few rows\n",
    "    if phase == 0 :\n",
    "        df.loc[:,var_list].to_csv(output_filename, # specifies target file to save the chunk to\n",
    "                                mode='w', # control write versus append\n",
    "                                header=var_list, # variable names\n",
    "                                index=False) # no row index saved\n",
    "        phase = 1 # Switch from write mode to append mode\n",
    "    elif phase == 1 :\n",
    "        df.loc[:,var_list].to_csv(output_filename, # specifies target file to save the chunk to\n",
    "                                mode='a', # control write versus append\n",
    "                                header=None, # variable names\n",
    "                                index=False) # no row index saved\n",
    "        phase = 1 # Switch from write mode to append mode"
   ]
  },
  {
   "cell_type": "code",
   "execution_count": 9,
   "id": "7cb0d7e2-f4ec-4c8b-9470-1d74d56406a1",
   "metadata": {},
   "outputs": [],
   "source": [
    "df = pd.read_csv('/Users/averyanderson/selected_gss_data.csv',low_memory=False) #read in data"
   ]
  },
  {
   "cell_type": "code",
   "execution_count": 11,
   "id": "652b9f90-5609-4a01-a714-a5ca7dca3d50",
   "metadata": {},
   "outputs": [
    {
     "data": {
      "text/html": [
       "<div>\n",
       "<style scoped>\n",
       "    .dataframe tbody tr th:only-of-type {\n",
       "        vertical-align: middle;\n",
       "    }\n",
       "\n",
       "    .dataframe tbody tr th {\n",
       "        vertical-align: top;\n",
       "    }\n",
       "\n",
       "    .dataframe thead th {\n",
       "        text-align: right;\n",
       "    }\n",
       "</style>\n",
       "<table border=\"1\" class=\"dataframe\">\n",
       "  <thead>\n",
       "    <tr style=\"text-align: right;\">\n",
       "      <th></th>\n",
       "      <th>year</th>\n",
       "      <th>rincome</th>\n",
       "      <th>major1</th>\n",
       "      <th>voednme1</th>\n",
       "      <th>whencol</th>\n",
       "      <th>happy</th>\n",
       "      <th>satjob</th>\n",
       "    </tr>\n",
       "  </thead>\n",
       "  <tbody>\n",
       "    <tr>\n",
       "      <th>0</th>\n",
       "      <td>1972</td>\n",
       "      <td>NaN</td>\n",
       "      <td>NaN</td>\n",
       "      <td>NaN</td>\n",
       "      <td>NaN</td>\n",
       "      <td>not too happy</td>\n",
       "      <td>a little dissatisfied</td>\n",
       "    </tr>\n",
       "    <tr>\n",
       "      <th>1</th>\n",
       "      <td>1972</td>\n",
       "      <td>NaN</td>\n",
       "      <td>NaN</td>\n",
       "      <td>NaN</td>\n",
       "      <td>NaN</td>\n",
       "      <td>not too happy</td>\n",
       "      <td>NaN</td>\n",
       "    </tr>\n",
       "    <tr>\n",
       "      <th>2</th>\n",
       "      <td>1972</td>\n",
       "      <td>NaN</td>\n",
       "      <td>NaN</td>\n",
       "      <td>NaN</td>\n",
       "      <td>NaN</td>\n",
       "      <td>pretty happy</td>\n",
       "      <td>moderately satisfied</td>\n",
       "    </tr>\n",
       "    <tr>\n",
       "      <th>3</th>\n",
       "      <td>1972</td>\n",
       "      <td>NaN</td>\n",
       "      <td>NaN</td>\n",
       "      <td>NaN</td>\n",
       "      <td>NaN</td>\n",
       "      <td>not too happy</td>\n",
       "      <td>very satisfied</td>\n",
       "    </tr>\n",
       "    <tr>\n",
       "      <th>4</th>\n",
       "      <td>1972</td>\n",
       "      <td>NaN</td>\n",
       "      <td>NaN</td>\n",
       "      <td>NaN</td>\n",
       "      <td>NaN</td>\n",
       "      <td>pretty happy</td>\n",
       "      <td>NaN</td>\n",
       "    </tr>\n",
       "  </tbody>\n",
       "</table>\n",
       "</div>"
      ],
      "text/plain": [
       "   year rincome major1 voednme1  whencol          happy                 satjob\n",
       "0  1972     NaN    NaN      NaN      NaN  not too happy  a little dissatisfied\n",
       "1  1972     NaN    NaN      NaN      NaN  not too happy                    NaN\n",
       "2  1972     NaN    NaN      NaN      NaN   pretty happy   moderately satisfied\n",
       "3  1972     NaN    NaN      NaN      NaN  not too happy         very satisfied\n",
       "4  1972     NaN    NaN      NaN      NaN   pretty happy                    NaN"
      ]
     },
     "execution_count": 11,
     "metadata": {},
     "output_type": "execute_result"
    }
   ],
   "source": [
    "df.head()"
   ]
  },
  {
   "cell_type": "code",
   "execution_count": 17,
   "id": "d08d9208-7af7-49a7-a519-75cf38349a65",
   "metadata": {},
   "outputs": [],
   "source": [
    "var = 'year' # A numeric variable\n",
    "df[var] = pd.to_numeric(df[var], errors='coerce') # Coerce the variable to numeric"
   ]
  },
  {
   "cell_type": "code",
   "execution_count": 67,
   "id": "a2d1c89e-7e13-4f03-b75f-d49a02b2b1c0",
   "metadata": {},
   "outputs": [],
   "source": [
    "df['happy'] = df['happy'].astype(str) #turn these from floats into str for later use\n",
    "df['satjob'] = df['satjob'].astype(str)"
   ]
  },
  {
   "cell_type": "code",
   "execution_count": 69,
   "id": "8cf8b9a1-9a52-4f3c-82ca-ceaababc76b0",
   "metadata": {},
   "outputs": [
    {
     "data": {
      "text/html": [
       "<div>\n",
       "<style scoped>\n",
       "    .dataframe tbody tr th:only-of-type {\n",
       "        vertical-align: middle;\n",
       "    }\n",
       "\n",
       "    .dataframe tbody tr th {\n",
       "        vertical-align: top;\n",
       "    }\n",
       "\n",
       "    .dataframe thead th {\n",
       "        text-align: right;\n",
       "    }\n",
       "</style>\n",
       "<table border=\"1\" class=\"dataframe\">\n",
       "  <thead>\n",
       "    <tr style=\"text-align: right;\">\n",
       "      <th></th>\n",
       "      <th>year</th>\n",
       "      <th>rincome</th>\n",
       "      <th>major1</th>\n",
       "      <th>voednme1</th>\n",
       "      <th>whencol</th>\n",
       "      <th>happy</th>\n",
       "      <th>satjob</th>\n",
       "    </tr>\n",
       "  </thead>\n",
       "  <tbody>\n",
       "    <tr>\n",
       "      <th>0</th>\n",
       "      <td>1972</td>\n",
       "      <td>NaN</td>\n",
       "      <td>NaN</td>\n",
       "      <td>NaN</td>\n",
       "      <td>NaN</td>\n",
       "      <td>not too happy</td>\n",
       "      <td>a little dissatisfied</td>\n",
       "    </tr>\n",
       "    <tr>\n",
       "      <th>1</th>\n",
       "      <td>1972</td>\n",
       "      <td>NaN</td>\n",
       "      <td>NaN</td>\n",
       "      <td>NaN</td>\n",
       "      <td>NaN</td>\n",
       "      <td>not too happy</td>\n",
       "      <td>nan</td>\n",
       "    </tr>\n",
       "    <tr>\n",
       "      <th>2</th>\n",
       "      <td>1972</td>\n",
       "      <td>NaN</td>\n",
       "      <td>NaN</td>\n",
       "      <td>NaN</td>\n",
       "      <td>NaN</td>\n",
       "      <td>pretty happy</td>\n",
       "      <td>moderately satisfied</td>\n",
       "    </tr>\n",
       "    <tr>\n",
       "      <th>3</th>\n",
       "      <td>1972</td>\n",
       "      <td>NaN</td>\n",
       "      <td>NaN</td>\n",
       "      <td>NaN</td>\n",
       "      <td>NaN</td>\n",
       "      <td>not too happy</td>\n",
       "      <td>very satisfied</td>\n",
       "    </tr>\n",
       "    <tr>\n",
       "      <th>4</th>\n",
       "      <td>1972</td>\n",
       "      <td>NaN</td>\n",
       "      <td>NaN</td>\n",
       "      <td>NaN</td>\n",
       "      <td>NaN</td>\n",
       "      <td>pretty happy</td>\n",
       "      <td>nan</td>\n",
       "    </tr>\n",
       "  </tbody>\n",
       "</table>\n",
       "</div>"
      ],
      "text/plain": [
       "   year rincome major1 voednme1  whencol          happy                 satjob\n",
       "0  1972     NaN    NaN      NaN      NaN  not too happy  a little dissatisfied\n",
       "1  1972     NaN    NaN      NaN      NaN  not too happy                    nan\n",
       "2  1972     NaN    NaN      NaN      NaN   pretty happy   moderately satisfied\n",
       "3  1972     NaN    NaN      NaN      NaN  not too happy         very satisfied\n",
       "4  1972     NaN    NaN      NaN      NaN   pretty happy                    nan"
      ]
     },
     "execution_count": 69,
     "metadata": {},
     "output_type": "execute_result"
    }
   ],
   "source": [
    "df.head()"
   ]
  },
  {
   "cell_type": "code",
   "execution_count": 189,
   "id": "13f5043a-40f0-4df6-a5b3-8cc9c7adabfb",
   "metadata": {},
   "outputs": [],
   "source": [
    "conditional =  (df['year']>= 2012) #clean data so only points between 2012-2016\n",
    "df2 = df[conditional] "
   ]
  },
  {
   "cell_type": "code",
   "execution_count": 185,
   "id": "fb0e6cae-57a0-4827-80f1-abaf5cfde273",
   "metadata": {},
   "outputs": [],
   "source": [
    "conditional =  (df2['year'] <= 2016) \n",
    "df3 = df2[conditional]"
   ]
  },
  {
   "cell_type": "code",
   "execution_count": 187,
   "id": "9e98e110-f30b-4269-929c-cb4a87aa4502",
   "metadata": {},
   "outputs": [
    {
     "data": {
      "text/html": [
       "<div>\n",
       "<style scoped>\n",
       "    .dataframe tbody tr th:only-of-type {\n",
       "        vertical-align: middle;\n",
       "    }\n",
       "\n",
       "    .dataframe tbody tr th {\n",
       "        vertical-align: top;\n",
       "    }\n",
       "\n",
       "    .dataframe thead th {\n",
       "        text-align: right;\n",
       "    }\n",
       "</style>\n",
       "<table border=\"1\" class=\"dataframe\">\n",
       "  <thead>\n",
       "    <tr style=\"text-align: right;\">\n",
       "      <th></th>\n",
       "      <th>year</th>\n",
       "      <th>rincome</th>\n",
       "      <th>major1</th>\n",
       "      <th>voednme1</th>\n",
       "      <th>whencol</th>\n",
       "      <th>happy</th>\n",
       "      <th>satjob</th>\n",
       "    </tr>\n",
       "  </thead>\n",
       "  <tbody>\n",
       "    <tr>\n",
       "      <th>55087</th>\n",
       "      <td>2012</td>\n",
       "      <td>NaN</td>\n",
       "      <td>english</td>\n",
       "      <td>NaN</td>\n",
       "      <td>2012.0</td>\n",
       "      <td>very happy</td>\n",
       "      <td>very satisfied</td>\n",
       "    </tr>\n",
       "    <tr>\n",
       "      <th>55088</th>\n",
       "      <td>2012</td>\n",
       "      <td>NaN</td>\n",
       "      <td>NaN</td>\n",
       "      <td>NaN</td>\n",
       "      <td>NaN</td>\n",
       "      <td>very happy</td>\n",
       "      <td>very satisfied</td>\n",
       "    </tr>\n",
       "    <tr>\n",
       "      <th>55089</th>\n",
       "      <td>2012</td>\n",
       "      <td>$25,000 or more</td>\n",
       "      <td>NaN</td>\n",
       "      <td>NaN</td>\n",
       "      <td>NaN</td>\n",
       "      <td>pretty happy</td>\n",
       "      <td>a little dissatisfied</td>\n",
       "    </tr>\n",
       "    <tr>\n",
       "      <th>55090</th>\n",
       "      <td>2012</td>\n",
       "      <td>NaN</td>\n",
       "      <td>NaN</td>\n",
       "      <td>NaN</td>\n",
       "      <td>NaN</td>\n",
       "      <td>very happy</td>\n",
       "      <td>nan</td>\n",
       "    </tr>\n",
       "    <tr>\n",
       "      <th>55091</th>\n",
       "      <td>2012</td>\n",
       "      <td>NaN</td>\n",
       "      <td>political science/international relations</td>\n",
       "      <td>jail/prison</td>\n",
       "      <td>1964.0</td>\n",
       "      <td>very happy</td>\n",
       "      <td>nan</td>\n",
       "    </tr>\n",
       "  </tbody>\n",
       "</table>\n",
       "</div>"
      ],
      "text/plain": [
       "       year          rincome                                     major1  \\\n",
       "55087  2012              NaN                                    english   \n",
       "55088  2012              NaN                                        NaN   \n",
       "55089  2012  $25,000 or more                                        NaN   \n",
       "55090  2012              NaN                                        NaN   \n",
       "55091  2012              NaN  political science/international relations   \n",
       "\n",
       "          voednme1  whencol         happy                 satjob  \n",
       "55087          NaN   2012.0    very happy         very satisfied  \n",
       "55088          NaN      NaN    very happy         very satisfied  \n",
       "55089          NaN      NaN  pretty happy  a little dissatisfied  \n",
       "55090          NaN      NaN    very happy                    nan  \n",
       "55091  jail/prison   1964.0    very happy                    nan  "
      ]
     },
     "execution_count": 187,
     "metadata": {},
     "output_type": "execute_result"
    }
   ],
   "source": [
    "df3.head(5)"
   ]
  },
  {
   "cell_type": "code",
   "execution_count": 77,
   "id": "a15f9b63-e09e-4fa1-a955-057f366e73fd",
   "metadata": {},
   "outputs": [
    {
     "name": "stdout",
     "output_type": "stream",
     "text": [
      "rincome                                         $1,000 to $2,999  \\\n",
      "major1                                                             \n",
      "accounting/bookkeeping                                         1   \n",
      "administrative science/public administration                   1   \n",
      "advertising                                                    0   \n",
      "agriculture/horticulture                                       0   \n",
      "allied health                                                  0   \n",
      "...                                                          ...   \n",
      "theater arts                                                   0   \n",
      "theology                                                       0   \n",
      "urban and regional planning                                    1   \n",
      "veterinary medicine                                            0   \n",
      "visual arts/graphic design/design and drafting                 1   \n",
      "\n",
      "rincome                                         $10,000 to $14,999  \\\n",
      "major1                                                               \n",
      "accounting/bookkeeping                                           6   \n",
      "administrative science/public administration                     2   \n",
      "advertising                                                      0   \n",
      "agriculture/horticulture                                         1   \n",
      "allied health                                                    1   \n",
      "...                                                            ...   \n",
      "theater arts                                                     2   \n",
      "theology                                                         2   \n",
      "urban and regional planning                                      1   \n",
      "veterinary medicine                                              0   \n",
      "visual arts/graphic design/design and drafting                   2   \n",
      "\n",
      "rincome                                         $15,000 to $19,999  \\\n",
      "major1                                                               \n",
      "accounting/bookkeeping                                           4   \n",
      "administrative science/public administration                     1   \n",
      "advertising                                                      0   \n",
      "agriculture/horticulture                                         0   \n",
      "allied health                                                    1   \n",
      "...                                                            ...   \n",
      "theater arts                                                     0   \n",
      "theology                                                         4   \n",
      "urban and regional planning                                      0   \n",
      "veterinary medicine                                              1   \n",
      "visual arts/graphic design/design and drafting                   2   \n",
      "\n",
      "rincome                                         $20,000 to $24,999  \\\n",
      "major1                                                               \n",
      "accounting/bookkeeping                                          10   \n",
      "administrative science/public administration                     2   \n",
      "advertising                                                      0   \n",
      "agriculture/horticulture                                         3   \n",
      "allied health                                                    0   \n",
      "...                                                            ...   \n",
      "theater arts                                                     2   \n",
      "theology                                                         6   \n",
      "urban and regional planning                                      0   \n",
      "veterinary medicine                                              2   \n",
      "visual arts/graphic design/design and drafting                   1   \n",
      "\n",
      "rincome                                         $25,000 or more  \\\n",
      "major1                                                            \n",
      "accounting/bookkeeping                                      137   \n",
      "administrative science/public administration                 31   \n",
      "advertising                                                   3   \n",
      "agriculture/horticulture                                     22   \n",
      "allied health                                                 6   \n",
      "...                                                         ...   \n",
      "theater arts                                                 13   \n",
      "theology                                                     29   \n",
      "urban and regional planning                                   4   \n",
      "veterinary medicine                                          10   \n",
      "visual arts/graphic design/design and drafting               20   \n",
      "\n",
      "rincome                                         $3,000 to $3,999  \\\n",
      "major1                                                             \n",
      "accounting/bookkeeping                                         0   \n",
      "administrative science/public administration                   0   \n",
      "advertising                                                    0   \n",
      "agriculture/horticulture                                       0   \n",
      "allied health                                                  0   \n",
      "...                                                          ...   \n",
      "theater arts                                                   0   \n",
      "theology                                                       0   \n",
      "urban and regional planning                                    1   \n",
      "veterinary medicine                                            1   \n",
      "visual arts/graphic design/design and drafting                 2   \n",
      "\n",
      "rincome                                         $4,000 to $4,999  \\\n",
      "major1                                                             \n",
      "accounting/bookkeeping                                         1   \n",
      "administrative science/public administration                   0   \n",
      "advertising                                                    0   \n",
      "agriculture/horticulture                                       0   \n",
      "allied health                                                  0   \n",
      "...                                                          ...   \n",
      "theater arts                                                   1   \n",
      "theology                                                       0   \n",
      "urban and regional planning                                    0   \n",
      "veterinary medicine                                            1   \n",
      "visual arts/graphic design/design and drafting                 1   \n",
      "\n",
      "rincome                                         $5,000 to $5,999  \\\n",
      "major1                                                             \n",
      "accounting/bookkeeping                                         0   \n",
      "administrative science/public administration                   1   \n",
      "advertising                                                    0   \n",
      "agriculture/horticulture                                       0   \n",
      "allied health                                                  0   \n",
      "...                                                          ...   \n",
      "theater arts                                                   0   \n",
      "theology                                                       0   \n",
      "urban and regional planning                                    0   \n",
      "veterinary medicine                                            0   \n",
      "visual arts/graphic design/design and drafting                 0   \n",
      "\n",
      "rincome                                         $6,000 to $6,999  \\\n",
      "major1                                                             \n",
      "accounting/bookkeeping                                         2   \n",
      "administrative science/public administration                   0   \n",
      "advertising                                                    0   \n",
      "agriculture/horticulture                                       1   \n",
      "allied health                                                  0   \n",
      "...                                                          ...   \n",
      "theater arts                                                   0   \n",
      "theology                                                       1   \n",
      "urban and regional planning                                    0   \n",
      "veterinary medicine                                            0   \n",
      "visual arts/graphic design/design and drafting                 0   \n",
      "\n",
      "rincome                                         $7,000 to $7,999  \\\n",
      "major1                                                             \n",
      "accounting/bookkeeping                                         1   \n",
      "administrative science/public administration                   0   \n",
      "advertising                                                    1   \n",
      "agriculture/horticulture                                       0   \n",
      "allied health                                                  0   \n",
      "...                                                          ...   \n",
      "theater arts                                                   0   \n",
      "theology                                                       0   \n",
      "urban and regional planning                                    0   \n",
      "veterinary medicine                                            0   \n",
      "visual arts/graphic design/design and drafting                 1   \n",
      "\n",
      "rincome                                         $8,000 to $9,999  under $1,000  \n",
      "major1                                                                          \n",
      "accounting/bookkeeping                                         1             1  \n",
      "administrative science/public administration                   1             0  \n",
      "advertising                                                    1             0  \n",
      "agriculture/horticulture                                       0             0  \n",
      "allied health                                                  0             0  \n",
      "...                                                          ...           ...  \n",
      "theater arts                                                   0             0  \n",
      "theology                                                       1             0  \n",
      "urban and regional planning                                    0             0  \n",
      "veterinary medicine                                            0             0  \n",
      "visual arts/graphic design/design and drafting                 1             0  \n",
      "\n",
      "[81 rows x 12 columns]\n"
     ]
    }
   ],
   "source": [
    "cross_tab = pd.crosstab(df3['major1'], df3['rincome']) #get initial look at categories in these two columns\n",
    "print(cross_tab)"
   ]
  },
  {
   "cell_type": "code",
   "execution_count": 191,
   "id": "e1f0cab6-2ee2-46bb-94fa-7ac3d079175b",
   "metadata": {},
   "outputs": [
    {
     "name": "stdout",
     "output_type": "stream",
     "text": [
      "voednme1\n",
      "college/university                                                   597\n",
      "vocational school/trades/technical (not high school, not college)    158\n",
      "medical/nursing/health/dental/hospital                                77\n",
      "other                                                                 69\n",
      "insurance, real estate, finance, executive management                 52\n",
      "beauty school/cosmetology                                             39\n",
      "armed forces                                                          35\n",
      "business college (not business school at a university)                33\n",
      "unable to code response, unclear, not identifiable                    30\n",
      "foreign college/university                                            29\n",
      "company/business                                                      25\n",
      "high school                                                           13\n",
      "police/fire academy; training                                         12\n",
      "job corp                                                              11\n",
      "art/design                                                             8\n",
      "Name: count, dtype: int64\n"
     ]
    }
   ],
   "source": [
    "top_number = df3[\"voednme1\"].value_counts().head(15)\n",
    "print(top_number) #see most popular response for where people got education"
   ]
  },
  {
   "cell_type": "code",
   "execution_count": 81,
   "id": "90d89513-283e-47a2-b9ba-7b78ba1b2d4d",
   "metadata": {},
   "outputs": [
    {
     "name": "stdout",
     "output_type": "stream",
     "text": [
      "major1\n",
      "business administration                      1072\n",
      "education                                     655\n",
      "engineering                                   380\n",
      "nursing                                       369\n",
      "psychology                                    250\n",
      "accounting/bookkeeping                        230\n",
      "computer science                              214\n",
      "biology                                       208\n",
      "health                                        208\n",
      "english                                       185\n",
      "medicine                                      165\n",
      "communications/speech                         161\n",
      "criminology/criminal justice                  150\n",
      "political science/international relations     146\n",
      "law                                           145\n",
      "Name: count, dtype: int64\n"
     ]
    }
   ],
   "source": [
    "top_number = df3[\"major1\"].value_counts().head(15)\n",
    "print(top_number) #see top majors, then use that information to narrow down dataset"
   ]
  },
  {
   "cell_type": "code",
   "execution_count": 83,
   "id": "39068a48-877b-42c7-a67c-4721779a6a2f",
   "metadata": {},
   "outputs": [],
   "source": [
    "conditional =  (df3['major1'] == 'business administration')\n",
    "df_ba = df3[conditional]"
   ]
  },
  {
   "cell_type": "code",
   "execution_count": 85,
   "id": "8247f9e1-3188-46fe-95bf-34b447ba2c4f",
   "metadata": {},
   "outputs": [
    {
     "data": {
      "text/html": [
       "<div>\n",
       "<style scoped>\n",
       "    .dataframe tbody tr th:only-of-type {\n",
       "        vertical-align: middle;\n",
       "    }\n",
       "\n",
       "    .dataframe tbody tr th {\n",
       "        vertical-align: top;\n",
       "    }\n",
       "\n",
       "    .dataframe thead th {\n",
       "        text-align: right;\n",
       "    }\n",
       "</style>\n",
       "<table border=\"1\" class=\"dataframe\">\n",
       "  <thead>\n",
       "    <tr style=\"text-align: right;\">\n",
       "      <th></th>\n",
       "      <th>year</th>\n",
       "      <th>rincome</th>\n",
       "      <th>major1</th>\n",
       "      <th>voednme1</th>\n",
       "      <th>whencol</th>\n",
       "      <th>happy</th>\n",
       "      <th>satjob</th>\n",
       "    </tr>\n",
       "  </thead>\n",
       "  <tbody>\n",
       "    <tr>\n",
       "      <th>55093</th>\n",
       "      <td>2012</td>\n",
       "      <td>NaN</td>\n",
       "      <td>business administration</td>\n",
       "      <td>NaN</td>\n",
       "      <td>2003.0</td>\n",
       "      <td>pretty happy</td>\n",
       "      <td>very satisfied</td>\n",
       "    </tr>\n",
       "    <tr>\n",
       "      <th>55117</th>\n",
       "      <td>2012</td>\n",
       "      <td>NaN</td>\n",
       "      <td>business administration</td>\n",
       "      <td>NaN</td>\n",
       "      <td>1957.0</td>\n",
       "      <td>pretty happy</td>\n",
       "      <td>nan</td>\n",
       "    </tr>\n",
       "    <tr>\n",
       "      <th>55118</th>\n",
       "      <td>2012</td>\n",
       "      <td>$25,000 or more</td>\n",
       "      <td>business administration</td>\n",
       "      <td>company/business</td>\n",
       "      <td>1986.0</td>\n",
       "      <td>very happy</td>\n",
       "      <td>very satisfied</td>\n",
       "    </tr>\n",
       "    <tr>\n",
       "      <th>55129</th>\n",
       "      <td>2012</td>\n",
       "      <td>$25,000 or more</td>\n",
       "      <td>business administration</td>\n",
       "      <td>college/university</td>\n",
       "      <td>2003.0</td>\n",
       "      <td>pretty happy</td>\n",
       "      <td>moderately satisfied</td>\n",
       "    </tr>\n",
       "    <tr>\n",
       "      <th>55134</th>\n",
       "      <td>2012</td>\n",
       "      <td>$25,000 or more</td>\n",
       "      <td>business administration</td>\n",
       "      <td>NaN</td>\n",
       "      <td>1967.0</td>\n",
       "      <td>very happy</td>\n",
       "      <td>very satisfied</td>\n",
       "    </tr>\n",
       "  </tbody>\n",
       "</table>\n",
       "</div>"
      ],
      "text/plain": [
       "       year          rincome                   major1            voednme1  \\\n",
       "55093  2012              NaN  business administration                 NaN   \n",
       "55117  2012              NaN  business administration                 NaN   \n",
       "55118  2012  $25,000 or more  business administration    company/business   \n",
       "55129  2012  $25,000 or more  business administration  college/university   \n",
       "55134  2012  $25,000 or more  business administration                 NaN   \n",
       "\n",
       "       whencol         happy                satjob  \n",
       "55093   2003.0  pretty happy        very satisfied  \n",
       "55117   1957.0  pretty happy                   nan  \n",
       "55118   1986.0    very happy        very satisfied  \n",
       "55129   2003.0  pretty happy  moderately satisfied  \n",
       "55134   1967.0    very happy        very satisfied  "
      ]
     },
     "execution_count": 85,
     "metadata": {},
     "output_type": "execute_result"
    }
   ],
   "source": [
    "df_ba.head()"
   ]
  },
  {
   "cell_type": "code",
   "execution_count": 87,
   "id": "bc81eaa5-f465-4776-ba36-00450700e194",
   "metadata": {},
   "outputs": [],
   "source": [
    "conditional =  (df3['major1'] == 'law') #narrow down dataset to only include top 15 major responses\n",
    "df_law = df3[conditional]\n",
    "conditional =  (df3['major1'] == 'education')\n",
    "df_ed = df3[conditional]\n",
    "conditional =  (df3['major1'] == 'engineering')\n",
    "df_engi = df3[conditional]\n",
    "conditional =  (df3['major1'] == 'nursing')\n",
    "df_nur = df3[conditional]\n",
    "conditional =  (df3['major1'] == 'psychology')\n",
    "df_psych = df3[conditional]\n",
    "conditional =  (df3['major1'] == 'accounting/bookkeeping')\n",
    "df_acc = df3[conditional]\n",
    "conditional =  (df3['major1'] == 'computer science')\n",
    "df_cs = df3[conditional]\n",
    "conditional =  (df3['major1'] == 'biology')\n",
    "df_bio = df3[conditional]\n",
    "conditional =  (df3['major1'] == 'health')\n",
    "df_he = df3[conditional]\n",
    "conditional =  (df3['major1'] == 'english')\n",
    "df_eng = df3[conditional]\n",
    "conditional =  (df3['major1'] == 'medicine')\n",
    "df_med = df3[conditional]\n",
    "conditional =  (df3['major1'] == 'communications/speech')\n",
    "df_com = df3[conditional]\n",
    "conditional =  (df3['major1'] == 'criminology/criminal justice')\n",
    "df_crim = df3[conditional]\n",
    "conditional =  (df3['major1'] == 'political science/international relations')\n",
    "df_ps = df3[conditional]"
   ]
  },
  {
   "cell_type": "code",
   "execution_count": 89,
   "id": "f5f0bff0-4a29-44e5-8bc9-9e2e426df3fd",
   "metadata": {},
   "outputs": [],
   "source": [
    "df_health = pd.concat([df_med, df_bio,df_he,df_psych,df_nur], axis = 0) #create subsets by category for later use and one full set with all majors\n",
    "df_hum = pd.concat([df_law,df_eng,df_ps,df_com,df_ed,df_crim], axis = 0)\n",
    "df_math = pd.concat([df_acc,df_cs,df_engi,df_ba], axis = 0)\n",
    "df_full = pd.concat([df_ba, df_law,df_ps,df_crim,df_com,df_med,df_eng,df_he,df_bio,df_cs,df_acc,df_psych,df_nur,df_engi,df_ed], axis = 0)"
   ]
  },
  {
   "cell_type": "code",
   "execution_count": 91,
   "id": "e046c040-08db-499d-b399-5010df5717d6",
   "metadata": {},
   "outputs": [
    {
     "data": {
      "text/html": [
       "<div>\n",
       "<style scoped>\n",
       "    .dataframe tbody tr th:only-of-type {\n",
       "        vertical-align: middle;\n",
       "    }\n",
       "\n",
       "    .dataframe tbody tr th {\n",
       "        vertical-align: top;\n",
       "    }\n",
       "\n",
       "    .dataframe thead th {\n",
       "        text-align: right;\n",
       "    }\n",
       "</style>\n",
       "<table border=\"1\" class=\"dataframe\">\n",
       "  <thead>\n",
       "    <tr style=\"text-align: right;\">\n",
       "      <th></th>\n",
       "      <th>year</th>\n",
       "      <th>rincome</th>\n",
       "      <th>major1</th>\n",
       "      <th>voednme1</th>\n",
       "      <th>whencol</th>\n",
       "      <th>happy</th>\n",
       "      <th>satjob</th>\n",
       "    </tr>\n",
       "  </thead>\n",
       "  <tbody>\n",
       "    <tr>\n",
       "      <th>55093</th>\n",
       "      <td>2012</td>\n",
       "      <td>NaN</td>\n",
       "      <td>business administration</td>\n",
       "      <td>NaN</td>\n",
       "      <td>2003.0</td>\n",
       "      <td>pretty happy</td>\n",
       "      <td>very satisfied</td>\n",
       "    </tr>\n",
       "    <tr>\n",
       "      <th>55117</th>\n",
       "      <td>2012</td>\n",
       "      <td>NaN</td>\n",
       "      <td>business administration</td>\n",
       "      <td>NaN</td>\n",
       "      <td>1957.0</td>\n",
       "      <td>pretty happy</td>\n",
       "      <td>nan</td>\n",
       "    </tr>\n",
       "    <tr>\n",
       "      <th>55118</th>\n",
       "      <td>2012</td>\n",
       "      <td>$25,000 or more</td>\n",
       "      <td>business administration</td>\n",
       "      <td>company/business</td>\n",
       "      <td>1986.0</td>\n",
       "      <td>very happy</td>\n",
       "      <td>very satisfied</td>\n",
       "    </tr>\n",
       "    <tr>\n",
       "      <th>55129</th>\n",
       "      <td>2012</td>\n",
       "      <td>$25,000 or more</td>\n",
       "      <td>business administration</td>\n",
       "      <td>college/university</td>\n",
       "      <td>2003.0</td>\n",
       "      <td>pretty happy</td>\n",
       "      <td>moderately satisfied</td>\n",
       "    </tr>\n",
       "    <tr>\n",
       "      <th>55134</th>\n",
       "      <td>2012</td>\n",
       "      <td>$25,000 or more</td>\n",
       "      <td>business administration</td>\n",
       "      <td>NaN</td>\n",
       "      <td>1967.0</td>\n",
       "      <td>very happy</td>\n",
       "      <td>very satisfied</td>\n",
       "    </tr>\n",
       "  </tbody>\n",
       "</table>\n",
       "</div>"
      ],
      "text/plain": [
       "       year          rincome                   major1            voednme1  \\\n",
       "55093  2012              NaN  business administration                 NaN   \n",
       "55117  2012              NaN  business administration                 NaN   \n",
       "55118  2012  $25,000 or more  business administration    company/business   \n",
       "55129  2012  $25,000 or more  business administration  college/university   \n",
       "55134  2012  $25,000 or more  business administration                 NaN   \n",
       "\n",
       "       whencol         happy                satjob  \n",
       "55093   2003.0  pretty happy        very satisfied  \n",
       "55117   1957.0  pretty happy                   nan  \n",
       "55118   1986.0    very happy        very satisfied  \n",
       "55129   2003.0  pretty happy  moderately satisfied  \n",
       "55134   1967.0    very happy        very satisfied  "
      ]
     },
     "execution_count": 91,
     "metadata": {},
     "output_type": "execute_result"
    }
   ],
   "source": [
    "df_full.head()"
   ]
  },
  {
   "cell_type": "code",
   "execution_count": 93,
   "id": "d201d3df-d1b6-4b20-8a40-848d93cf8f4c",
   "metadata": {},
   "outputs": [
    {
     "name": "stdout",
     "output_type": "stream",
     "text": [
      "happy                                      nan  not too happy  pretty happy  \\\n",
      "major1                                                                        \n",
      "accounting/bookkeeping                       0             29           132   \n",
      "biology                                      3             33           122   \n",
      "business administration                      2            150           603   \n",
      "communications/speech                        0             22            94   \n",
      "computer science                             0             32           137   \n",
      "criminology/criminal justice                 0             29            98   \n",
      "education                                    1             77           367   \n",
      "engineering                                  3             52           217   \n",
      "english                                      0             30           104   \n",
      "health                                       2             33           117   \n",
      "law                                          0             24            80   \n",
      "medicine                                     0             34            78   \n",
      "nursing                                      1             36           219   \n",
      "political science/international relations    1             15            86   \n",
      "psychology                                   0             47           133   \n",
      "\n",
      "happy                                      very happy  \n",
      "major1                                                 \n",
      "accounting/bookkeeping                             69  \n",
      "biology                                            50  \n",
      "business administration                           317  \n",
      "communications/speech                              45  \n",
      "computer science                                   45  \n",
      "criminology/criminal justice                       23  \n",
      "education                                         210  \n",
      "engineering                                       108  \n",
      "english                                            51  \n",
      "health                                             56  \n",
      "law                                                41  \n",
      "medicine                                           53  \n",
      "nursing                                           113  \n",
      "political science/international relations          44  \n",
      "psychology                                         70  \n"
     ]
    }
   ],
   "source": [
    "cross_tab = pd.crosstab(df_full['major1'], df_full['happy'])\n",
    "print(cross_tab) #compare happiness across all majors"
   ]
  },
  {
   "cell_type": "code",
   "execution_count": 95,
   "id": "3f166f63-2da9-400d-89d3-9fee9ccbce4a",
   "metadata": {},
   "outputs": [
    {
     "name": "stdout",
     "output_type": "stream",
     "text": [
      "satjob                                     a little dissatisfied  \\\n",
      "major1                                                             \n",
      "accounting/bookkeeping                                        16   \n",
      "biology                                                        9   \n",
      "business administration                                       71   \n",
      "communications/speech                                         14   \n",
      "computer science                                              13   \n",
      "criminology/criminal justice                                  16   \n",
      "education                                                     23   \n",
      "engineering                                                   21   \n",
      "english                                                       14   \n",
      "health                                                        13   \n",
      "law                                                           14   \n",
      "medicine                                                       8   \n",
      "nursing                                                       23   \n",
      "political science/international relations                     13   \n",
      "psychology                                                    16   \n",
      "\n",
      "satjob                                     moderately satisfied  nan  \\\n",
      "major1                                                                 \n",
      "accounting/bookkeeping                                       69   48   \n",
      "biology                                                      65   58   \n",
      "business administration                                     328  272   \n",
      "communications/speech                                        53   21   \n",
      "computer science                                             73   47   \n",
      "criminology/criminal justice                                 48   25   \n",
      "education                                                   151  247   \n",
      "engineering                                                 108  111   \n",
      "english                                                      46   61   \n",
      "health                                                       62   46   \n",
      "law                                                          29   37   \n",
      "medicine                                                     52   35   \n",
      "nursing                                                      95   95   \n",
      "political science/international relations                    37   46   \n",
      "psychology                                                   88   65   \n",
      "\n",
      "satjob                                     very dissatisfied  very satisfied  \n",
      "major1                                                                        \n",
      "accounting/bookkeeping                                     4              93  \n",
      "biology                                                    5              71  \n",
      "business administration                                   28             373  \n",
      "communications/speech                                      5              68  \n",
      "computer science                                           3              78  \n",
      "criminology/criminal justice                               3              58  \n",
      "education                                                  9             225  \n",
      "engineering                                                5             135  \n",
      "english                                                    3              61  \n",
      "health                                                     8              79  \n",
      "law                                                        5              60  \n",
      "medicine                                                   3              67  \n",
      "nursing                                                    6             150  \n",
      "political science/international relations                  2              48  \n",
      "psychology                                                 8              73  \n"
     ]
    }
   ],
   "source": [
    "cross_tab = pd.crosstab(df_full['major1'], df_full['satjob'])\n",
    "print(cross_tab) #job satisfaction across majors"
   ]
  },
  {
   "cell_type": "code",
   "execution_count": 97,
   "id": "9498219e-7c02-45cb-8f27-156202de7101",
   "metadata": {},
   "outputs": [
    {
     "data": {
      "text/plain": [
       "<Axes: >"
      ]
     },
     "execution_count": 97,
     "metadata": {},
     "output_type": "execute_result"
    },
    {
     "data": {
      "image/png": "[encoded data removed]",
      "text/plain": [
       "<Figure size 640x480 with 1 Axes>"
      ]
     },
     "metadata": {},
     "output_type": "display_data"
    }
   ],
   "source": [
    "df_full['happy'].hist()"
   ]
  },
  {
   "cell_type": "code",
   "execution_count": 99,
   "id": "2837b570-11c8-449e-95c3-b26ba7f1bc95",
   "metadata": {},
   "outputs": [
    {
     "data": {
      "text/plain": [
       "<Axes: >"
      ]
     },
     "execution_count": 99,
     "metadata": {},
     "output_type": "execute_result"
    },
    {
     "data": {
      "image/png": "[encoded data removed]",
      "text/plain": [
       "<Figure size 640x480 with 1 Axes>"
      ]
     },
     "metadata": {},
     "output_type": "display_data"
    }
   ],
   "source": [
    "df_full['satjob'].hist()"
   ]
  },
  {
   "cell_type": "code",
   "execution_count": 127,
   "id": "ecc375bf-e3dc-4f4e-9436-1bbf1169806c",
   "metadata": {},
   "outputs": [
    {
     "data": {
      "text/plain": [
       "(array([[364.,   0., 437.,   0.,   0., 520.,   0.,  94.,   0.,  27.],\n",
       "        [578.,   0., 478.,   0.,   0., 679.,   0., 121.,   0.,  40.],\n",
       "        [362.,   0., 299.,   0.,   0., 440.,   0.,  69.,   0.,  30.]]),\n",
       " array([0. , 0.4, 0.8, 1.2, 1.6, 2. , 2.4, 2.8, 3.2, 3.6, 4. ]),\n",
       " <a list of 3 BarContainer objects>)"
      ]
     },
     "execution_count": 127,
     "metadata": {},
     "output_type": "execute_result"
    },
    {
     "data": {
      "image/png": "[encoded data removed]",
      "text/plain": [
       "<Figure size 640x480 with 1 Axes>"
      ]
     },
     "metadata": {},
     "output_type": "display_data"
    }
   ],
   "source": [
    "plt.hist([df_hum['satjob'], df_math['satjob'], df_health['satjob']])\n",
    "#hum = blue, math = orange, health = green"
   ]
  },
  {
   "cell_type": "code",
   "execution_count": 239,
   "id": "c92c6e17-6188-42d2-b523-d61b6d0bacb7",
   "metadata": {},
   "outputs": [
    {
     "name": "stdout",
     "output_type": "stream",
     "text": [
      "27 94 364 520\n",
      "1005\n"
     ]
    }
   ],
   "source": [
    "x= df_hum['satjob'].value_counts().get('very dissatisfied', 0)\n",
    "y= df_hum['satjob'].value_counts().get('a little dissatisfied', 0)\n",
    "z= df_hum['satjob'].value_counts().get('moderately satisfied', 0)\n",
    "w= df_hum['satjob'].value_counts().get('very satisfied', 0)\n",
    "print(x,y,z,w)\n",
    "print(x+y+z+w)"
   ]
  },
  {
   "cell_type": "code",
   "execution_count": 241,
   "id": "124826e9-2e5a-4855-a8c9-cb2505b0363e",
   "metadata": {},
   "outputs": [
    {
     "name": "stdout",
     "output_type": "stream",
     "text": [
      "40 121 578 679\n",
      "1418\n"
     ]
    }
   ],
   "source": [
    "x= df_math['satjob'].value_counts().get('very dissatisfied', 0)\n",
    "y= df_math['satjob'].value_counts().get('a little dissatisfied', 0)\n",
    "z= df_math['satjob'].value_counts().get('moderately satisfied', 0)\n",
    "w= df_math['satjob'].value_counts().get('very satisfied', 0)\n",
    "print(x,y,z,w)\n",
    "print(x+y+z+w)"
   ]
  },
  {
   "cell_type": "code",
   "execution_count": 243,
   "id": "38080a1a-7702-48aa-9d7b-2c9cfadf2622",
   "metadata": {},
   "outputs": [
    {
     "name": "stdout",
     "output_type": "stream",
     "text": [
      "30 69 362 440\n",
      "901\n"
     ]
    }
   ],
   "source": [
    "x= df_health['satjob'].value_counts().get('very dissatisfied', 0)\n",
    "y= df_health['satjob'].value_counts().get('a little dissatisfied', 0)\n",
    "z= df_health['satjob'].value_counts().get('moderately satisfied', 0)\n",
    "w= df_health['satjob'].value_counts().get('very satisfied', 0)\n",
    "print(x,y,z,w)\n",
    "print(x+y+z+w)"
   ]
  },
  {
   "cell_type": "code",
   "execution_count": 125,
   "id": "d8e6799a-5d9f-4b6f-bc1a-6730c40f0fc3",
   "metadata": {},
   "outputs": [
    {
     "data": {
      "text/plain": [
       "(array([[ 414.,    0.,    0.,  829.,    0.,    0.,  197.,    0.,    0.,\n",
       "            2.],\n",
       "        [ 539.,    0.,    0., 1089.,    0.,    0.,  263.,    0.,    0.,\n",
       "            5.],\n",
       "        [ 342.,    0.,    0.,  669.,    0.,    0.,  183.,    0.,    0.,\n",
       "            6.]]),\n",
       " array([0. , 0.3, 0.6, 0.9, 1.2, 1.5, 1.8, 2.1, 2.4, 2.7, 3. ]),\n",
       " <a list of 3 BarContainer objects>)"
      ]
     },
     "execution_count": 125,
     "metadata": {},
     "output_type": "execute_result"
    },
    {
     "data": {
      "image/png": "[encoded data removed]",
      "text/plain": [
       "<Figure size 640x480 with 1 Axes>"
      ]
     },
     "metadata": {},
     "output_type": "display_data"
    }
   ],
   "source": [
    "plt.hist([df_hum['happy'], df_math['happy'], df_health['happy']])\n",
    "#hum = blue, math = orange, health = green"
   ]
  },
  {
   "cell_type": "code",
   "execution_count": 227,
   "id": "2e4264e6-3f38-4dca-9b9c-bbc86382c444",
   "metadata": {},
   "outputs": [
    {
     "name": "stdout",
     "output_type": "stream",
     "text": [
      "414 829 197\n",
      "1440\n"
     ]
    }
   ],
   "source": [
    "x= df_hum['happy'].value_counts().get('very happy', 0)\n",
    "y= df_hum['happy'].value_counts().get('pretty happy', 0)\n",
    "z= df_hum['happy'].value_counts().get('not too happy', 0)\n",
    "print(x,y,z)\n",
    "print(sx+y+z)"
   ]
  },
  {
   "cell_type": "code",
   "execution_count": 229,
   "id": "0427d2b0-435a-4212-b047-ee4e185e4465",
   "metadata": {},
   "outputs": [
    {
     "name": "stdout",
     "output_type": "stream",
     "text": [
      "539 1089 263\n",
      "1891\n"
     ]
    }
   ],
   "source": [
    "x= df_math['happy'].value_counts().get('very happy', 0)\n",
    "y= df_math['happy'].value_counts().get('pretty happy', 0)\n",
    "z= df_math['happy'].value_counts().get('not too happy', 0)\n",
    "print(x,y,z)\n",
    "print(x+y+z)"
   ]
  },
  {
   "cell_type": "code",
   "execution_count": 231,
   "id": "03f3b104-10a3-4575-aece-c1546ecf4216",
   "metadata": {},
   "outputs": [
    {
     "name": "stdout",
     "output_type": "stream",
     "text": [
      "342 669 183\n",
      "1194\n"
     ]
    }
   ],
   "source": [
    "x= df_health['happy'].value_counts().get('very happy', 0)\n",
    "y= df_health['happy'].value_counts().get('pretty happy', 0)\n",
    "z= df_health['happy'].value_counts().get('not too happy', 0)\n",
    "print(x,y,z)\n",
    "print(x+y+z)"
   ]
  },
  {
   "cell_type": "code",
   "execution_count": 193,
   "id": "d0d3ad88-7c82-453f-9925-d87b236ad64e",
   "metadata": {},
   "outputs": [
    {
     "name": "stdout",
     "output_type": "stream",
     "text": [
      "major1         communications/speech  criminology/criminal justice  education  \\\n",
      "happy                                                                           \n",
      "nan                                0                             0          1   \n",
      "not too happy                     22                            29         77   \n",
      "pretty happy                      94                            98        367   \n",
      "very happy                        45                            23        210   \n",
      "\n",
      "major1         english  law  political science/international relations  \n",
      "happy                                                                   \n",
      "nan                  0    0                                          1  \n",
      "not too happy       30   24                                         15  \n",
      "pretty happy       104   80                                         86  \n",
      "very happy          51   41                                         44  \n"
     ]
    }
   ],
   "source": [
    "cross_tab = pd.crosstab(df_hum['happy'], df_full['major1'])\n",
    "print(cross_tab)"
   ]
  },
  {
   "cell_type": "code",
   "execution_count": 195,
   "id": "71471f44-7964-4c78-b233-5f2d2a21ffd7",
   "metadata": {},
   "outputs": [
    {
     "name": "stdout",
     "output_type": "stream",
     "text": [
      "major1         accounting/bookkeeping  business administration  \\\n",
      "happy                                                            \n",
      "nan                                 0                        2   \n",
      "not too happy                      29                      150   \n",
      "pretty happy                      132                      603   \n",
      "very happy                         69                      317   \n",
      "\n",
      "major1         computer science  engineering  \n",
      "happy                                         \n",
      "nan                           0            3  \n",
      "not too happy                32           52  \n",
      "pretty happy                137          217  \n",
      "very happy                   45          108  \n"
     ]
    }
   ],
   "source": [
    "cross_tab = pd.crosstab(df_math['happy'], df_full['major1'])\n",
    "print(cross_tab)"
   ]
  },
  {
   "cell_type": "code",
   "execution_count": 197,
   "id": "72940cb1-17bb-4302-b589-5163f156ca3d",
   "metadata": {},
   "outputs": [
    {
     "name": "stdout",
     "output_type": "stream",
     "text": [
      "major1         biology  health  medicine  nursing  psychology\n",
      "happy                                                        \n",
      "nan                  3       2         0        1           0\n",
      "not too happy       33      33        34       36          47\n",
      "pretty happy       122     117        78      219         133\n",
      "very happy          50      56        53      113          70\n"
     ]
    }
   ],
   "source": [
    "cross_tab = pd.crosstab(df_health['happy'], df_full['major1'])\n",
    "print(cross_tab)"
   ]
  },
  {
   "cell_type": "code",
   "execution_count": 199,
   "id": "ef9a465d-401e-4f3d-a28c-64267fc68ad2",
   "metadata": {},
   "outputs": [
    {
     "name": "stdout",
     "output_type": "stream",
     "text": [
      "major1                 communications/speech  criminology/criminal justice  \\\n",
      "satjob                                                                       \n",
      "a little dissatisfied                     14                            16   \n",
      "moderately satisfied                      53                            48   \n",
      "nan                                       21                            25   \n",
      "very dissatisfied                          5                             3   \n",
      "very satisfied                            68                            58   \n",
      "\n",
      "major1                 education  english  law  \\\n",
      "satjob                                           \n",
      "a little dissatisfied         23       14   14   \n",
      "moderately satisfied         151       46   29   \n",
      "nan                          247       61   37   \n",
      "very dissatisfied              9        3    5   \n",
      "very satisfied               225       61   60   \n",
      "\n",
      "major1                 political science/international relations  \n",
      "satjob                                                            \n",
      "a little dissatisfied                                         13  \n",
      "moderately satisfied                                          37  \n",
      "nan                                                           46  \n",
      "very dissatisfied                                              2  \n",
      "very satisfied                                                48  \n"
     ]
    }
   ],
   "source": [
    "cross_tab = pd.crosstab(df_hum['satjob'], df_full['major1'])\n",
    "print(cross_tab)"
   ]
  },
  {
   "cell_type": "code",
   "execution_count": 201,
   "id": "3026f779-c2ba-43e2-805d-bc910a1b0eae",
   "metadata": {},
   "outputs": [
    {
     "name": "stdout",
     "output_type": "stream",
     "text": [
      "major1                 accounting/bookkeeping  business administration  \\\n",
      "satjob                                                                   \n",
      "a little dissatisfied                      16                       71   \n",
      "moderately satisfied                       69                      328   \n",
      "nan                                        48                      272   \n",
      "very dissatisfied                           4                       28   \n",
      "very satisfied                             93                      373   \n",
      "\n",
      "major1                 computer science  engineering  \n",
      "satjob                                                \n",
      "a little dissatisfied                13           21  \n",
      "moderately satisfied                 73          108  \n",
      "nan                                  47          111  \n",
      "very dissatisfied                     3            5  \n",
      "very satisfied                       78          135  \n"
     ]
    }
   ],
   "source": [
    "cross_tab = pd.crosstab(df_math['satjob'], df_full['major1'])\n",
    "print(cross_tab)"
   ]
  },
  {
   "cell_type": "code",
   "execution_count": 203,
   "id": "7e26934c-1280-4dcb-9065-f1f2c0bbbb1f",
   "metadata": {},
   "outputs": [
    {
     "name": "stdout",
     "output_type": "stream",
     "text": [
      "major1                 biology  health  medicine  nursing  psychology\n",
      "satjob                                                               \n",
      "a little dissatisfied        9      13         8       23          16\n",
      "moderately satisfied        65      62        52       95          88\n",
      "nan                         58      46        35       95          65\n",
      "very dissatisfied            5       8         3        6           8\n",
      "very satisfied              71      79        67      150          73\n"
     ]
    }
   ],
   "source": [
    "cross_tab = pd.crosstab(df_health['satjob'], df_full['major1'])\n",
    "print(cross_tab)"
   ]
  },
  {
   "cell_type": "markdown",
   "id": "55a7a91f-9df5-458c-a1b9-6de58a1c467e",
   "metadata": {},
   "source": [
    "For this lab, I wanted to look into how majors compare to happiness and job satisfaction. To do this, I selected the top 15 most reported majors and divided them up by category: Health related majors, humanities, and miscellaneous math based majors. When I made comparative histograms to examine happiness across the three categories, I found that there appeared to be even proportions of happiness across majors. Across all three groups of majors, most people reported themselves to be “pretty happy” followed by “very happy” and “not too happy” was reported the least. With all three variables, about 13-15% reported “not too happy”, 55-58% reported “pretty happy” and 28-30% reported “very happy”. I found this consistency in happiness really interesting. The same consistency was evident in job satisfaction. Across all three categories of majors, about 3% reported being very dissatisfied, 9% reported a little satisfied, about 40% moderately satisfied and about 48% reporting very satisfied. I will note a slight difference in the humanities having 51% very satisfied and 36% moderately satisfied while both math and health majors had 47% very satisfied and 40% moderately satisfied. "
   ]
  },
  {
   "cell_type": "markdown",
   "id": "8fa0071f-40cb-4ea2-8ecd-28ddc62ec5a7",
   "metadata": {},
   "source": [
    "After looking at happiness and satisfaction across these three larger categories, I wanted to look at it more specifically by major. In the group of humanities majors, once again, there was across the board consistency in happiness. About 15% not too happy, 55% pretty happy, and 30% very happy. The only notable exception was those who had criminology or criminal justice majors who reported 20% not too happy, 65% pretty happy and only 15% very happy. For job satisfaction in the humanities group, the breakdown was almost always about 2%,13%,37%, 48% for very dissatisfied, a little dissatisfied, moderately satisfied and very satisfied, respectfully. The two exceptions were those with education and law majors who were both 55% very satisfied. Law had higher reports of dissatisfaction and 27% moderately dissatisfaction. Education, on the other hand, had 38% moderately satisfied with only 7% in one of the two dissatisfied categories. In the miscellaneous math group, there was a clear happiness outlier with those who reported a cs major having 64% pretty happy and only 21% very happy. This compares to the other three categories of accounting, business administration and engineering who all had a 13%, 57%, 30% breakdown for not too happy, pretty happy and very happy respectfully. For job satisfaction in this category, it was very consistent across the board with a 3%,8%,41%,46% breakdown in increasing order of job satisfaction. Finally the medical related major category. Again, saw similarities in happiness with about 16%, 60% and 25% for the corresponding happiness categories across the board. I will note, though, that Nursing had just 10% say not too happy and then 60% pretty happy and 30% very happy. Nursing also stood out in job satisfaction with 54% saying very satisfied. Psychology, on the other hand, stood out as being the only category to have more people report moderately satisfied over very satisfied with 47% saying moderately satisfied and 40% saying very satisfied. \n"
   ]
  },
  {
   "cell_type": "markdown",
   "id": "af3b4740-7416-4bd2-91ce-f0be3997e6b0",
   "metadata": {},
   "source": [
    "A couple notes about these results. First, I want to acknowledge that a major does not necessarily correspond to a job in that field. However, I used the job satisfaction variable as an additional measure of overall contentment alongside happiness. No matter what career one ended up with, I wanted to see if the major they chose could potentially correlate to how they felt later in life. While I cannot make any clear conclusions from this initial use of data, it was nice to see no glaring differences in happiness and job satisfaction across majors, which makes me hope that what you choose as your college major may not be the life altering decision it can feel like. "
   ]
  }
 ],
 "metadata": {
  "kernelspec": {
   "display_name": "Python 3 (ipykernel)",
   "language": "python",
   "name": "python3"
  },
  "language_info": {
   "codemirror_mode": {
    "name": "ipython",
    "version": 3
   },
   "file_extension": ".py",
   "mimetype": "text/x-python",
   "name": "python",
   "nbconvert_exporter": "python",
   "pygments_lexer": "ipython3",
   "version": "3.12.4"
  }
 },
 "nbformat": 4,
 "nbformat_minor": 5
}
